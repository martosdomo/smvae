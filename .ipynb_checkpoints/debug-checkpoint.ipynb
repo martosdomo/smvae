{
 "cells": [
  {
   "cell_type": "code",
   "execution_count": 1,
   "metadata": {},
   "outputs": [],
   "source": [
    "%load_ext autoreload\n",
    "%autoreload 2\n",
    "\n",
    "from c_mnist import *\n",
    "from models import *\n",
    "from functions import *\n",
    "from torchvision.datasets import MNIST, FashionMNIST"
   ]
  },
  {
   "cell_type": "code",
   "execution_count": 8,
   "metadata": {},
   "outputs": [],
   "source": [
    "testset = create_testset(MNIST, return_validation=False)"
   ]
  },
  {
   "cell_type": "code",
   "execution_count": 12,
   "metadata": {},
   "outputs": [],
   "source": [
    "ROOT = 'C:/Users/marto/Documents/smvae/'\n",
    "haddlam = torch.load(ROOT+'evaluation/evaluations_0.txt')"
   ]
  },
  {
   "cell_type": "code",
   "execution_count": 15,
   "metadata": {},
   "outputs": [
    {
     "data": {
      "text/plain": [
       "{'Standard_VAE_600_0.0_0.2_seed0': [tensor(-403446.9688, requires_grad=True),\n",
       "  tensor(-528.4326, requires_grad=True),\n",
       "  tensor(-402916.5625, requires_grad=True)],\n",
       " 'Standard_VAE_600_0.0_1.0_seed0': [tensor(-2.4919, requires_grad=True),\n",
       "  tensor(2.5709, requires_grad=True),\n",
       "  tensor(-5.0629, requires_grad=True)],\n",
       " 'Standard_VAE_600_0.8_1.0_seed0': [tensor(-593.3457, requires_grad=True),\n",
       "  tensor(-581.4960, requires_grad=True),\n",
       "  tensor(-11.8496, requires_grad=True)],\n",
       " 'Normal_SMVAE_600_0.0_0.2_seed0': [tensor(-906.0317, requires_grad=True),\n",
       "  tensor(-526.7042, requires_grad=True),\n",
       "  tensor(-379.3269, requires_grad=True)],\n",
       " 'Normal_SMVAE_600_0.0_1.0_seed0': [tensor(74.8333, requires_grad=True),\n",
       "  tensor(77.4282, requires_grad=True),\n",
       "  tensor(-2.5948, requires_grad=True)],\n",
       " 'Normal_SMVAE_600_0.8_1.0_seed0': [tensor(-133.6597, requires_grad=True),\n",
       "  tensor(-127.4152, requires_grad=True),\n",
       "  tensor(-6.2444, requires_grad=True)],\n",
       " 'Beta_SMVAE_600_0.0_0.2_seed0': [tensor(-30244.8672, requires_grad=True),\n",
       "  tensor(-526.9630, requires_grad=True),\n",
       "  tensor(-29717.8184, requires_grad=True)],\n",
       " 'Beta_SMVAE_600_0.0_1.0_seed0': [tensor(41.8038, requires_grad=True),\n",
       "  tensor(46.0737, requires_grad=True),\n",
       "  tensor(-4.2700, requires_grad=True)],\n",
       " 'Beta_SMVAE_600_0.8_1.0_seed0': [tensor(-217.8857, requires_grad=True),\n",
       "  tensor(-211.1485, requires_grad=True),\n",
       "  tensor(-6.7373, requires_grad=True)]}"
      ]
     },
     "execution_count": 15,
     "metadata": {},
     "output_type": "execute_result"
    }
   ],
   "source": [
    "haddlam"
   ]
  },
  {
   "cell_type": "code",
   "execution_count": 29,
   "metadata": {},
   "outputs": [],
   "source": [
    "# HYPERPARAMETERS\n",
    "\n",
    "LATENT_SIZE = 10\n",
    "BATCH_SIZE = 32\n",
    "LEARNING_RATE = 0.5*1e-3\n",
    "NUM_EPOCHS = 15\n",
    "\n",
    "random_seed = 0\n",
    "is_bce = False\n",
    "\n",
    "random.seed(random_seed)\n",
    "\n",
    "digit_inst = 4\n",
    "length = 24000\n",
    "min_contrast = 0\n",
    "max_contrast = 1\n",
    "\n",
    "trainset = create_trainset(digit_inst, length, min_contrast, max_contrast)\n",
    "testset = create_testset(digit_inst)\n",
    "\n",
    "testloader = DataLoader(\n",
    "    testset,\n",
    "    batch_size=1,\n",
    "    shuffle=True\n",
    ")"
   ]
  },
  {
   "cell_type": "code",
   "execution_count": 36,
   "metadata": {},
   "outputs": [],
   "source": [
    "torch.manual_seed(random_seed)\n",
    "torch.cuda.manual_seed(random_seed)\n",
    "torch.backends.cudnn.deterministic = True\n",
    "torch.backends.cudnn.benchmark = False\n",
    "\n",
    "enc_layers = [256, 32]\n",
    "dec_layers = [32, 256]\n",
    "model_vae0_1 = VAE(784, enc_layers, dec_layers, LATENT_SIZE, 0.1, nn.ReLU(), nn.ReLU())\n"
   ]
  },
  {
   "cell_type": "code",
   "execution_count": 32,
   "metadata": {},
   "outputs": [
    {
     "data": {
      "text/plain": [
       "0.1"
      ]
     },
     "execution_count": 32,
     "metadata": {},
     "output_type": "execute_result"
    }
   ],
   "source": [
    "model_vae0_1.var"
   ]
  },
  {
   "cell_type": "code",
   "execution_count": 39,
   "metadata": {},
   "outputs": [
    {
     "name": "stdout",
     "output_type": "stream",
     "text": [
      "Epoch [1/4], Loss: 848.207, Reconstruction: 857.447, Regularization: -9.240\n",
      "Epoch [2/4], Loss: 850.936, Reconstruction: 860.634, Regularization: -9.697\n",
      "Epoch [3/4], Loss: 853.085, Reconstruction: 863.211, Regularization: -10.126\n",
      "Epoch [4/4], Loss: 854.748, Reconstruction: 865.179, Regularization: -10.431\n"
     ]
    },
    {
     "data": {
      "text/plain": [
       "[[tensor(848.2073, grad_fn=<DivBackward0>),\n",
       "  tensor(857.4468, grad_fn=<DivBackward0>),\n",
       "  tensor(-9.2396, grad_fn=<DivBackward0>)],\n",
       " [tensor(850.9364, grad_fn=<DivBackward0>),\n",
       "  tensor(860.6337, grad_fn=<DivBackward0>),\n",
       "  tensor(-9.6971, grad_fn=<DivBackward0>)],\n",
       " [tensor(853.0848, grad_fn=<DivBackward0>),\n",
       "  tensor(863.2112, grad_fn=<DivBackward0>),\n",
       "  tensor(-10.1262, grad_fn=<DivBackward0>)],\n",
       " [tensor(854.7482, grad_fn=<DivBackward0>),\n",
       "  tensor(865.1793, grad_fn=<DivBackward0>),\n",
       "  tensor(-10.4314, grad_fn=<DivBackward0>)]]"
      ]
     },
     "execution_count": 39,
     "metadata": {},
     "output_type": "execute_result"
    }
   ],
   "source": [
    "model = model_vae0_1\n",
    "NUM_EPOCHS = 4\n",
    "BATCH_SIZE = 32\n",
    "train(model, trainset, is_bce, LEARNING_RATE, BATCH_SIZE, NUM_EPOCHS)"
   ]
  },
  {
   "cell_type": "code",
   "execution_count": 41,
   "metadata": {},
   "outputs": [
    {
     "data": {
      "text/plain": [
       "(tensor(853.9106, grad_fn=<DivBackward0>),\n",
       " tensor(863.8059, grad_fn=<DivBackward0>),\n",
       " tensor(-9.8931, grad_fn=<DivBackward0>))"
      ]
     },
     "execution_count": 41,
     "metadata": {},
     "output_type": "execute_result"
    }
   ],
   "source": [
    "ELBO(model, False, testset) # testset batch_size = 1"
   ]
  },
  {
   "cell_type": "code",
   "execution_count": null,
   "metadata": {},
   "outputs": [],
   "source": []
  }
 ],
 "metadata": {
  "kernelspec": {
   "display_name": "base",
   "language": "python",
   "name": "python3"
  },
  "language_info": {
   "codemirror_mode": {
    "name": "ipython",
    "version": 3
   },
   "file_extension": ".py",
   "mimetype": "text/x-python",
   "name": "python",
   "nbconvert_exporter": "python",
   "pygments_lexer": "ipython3",
   "version": "3.10.9"
  },
  "orig_nbformat": 4
 },
 "nbformat": 4,
 "nbformat_minor": 2
}
