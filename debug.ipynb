{
 "cells": [
  {
   "cell_type": "code",
   "execution_count": 2,
   "metadata": {},
   "outputs": [],
   "source": [
    "%load_ext autoreload\n",
    "%autoreload 2\n",
    "\n",
    "from c_mnist import *\n",
    "from models import *\n",
    "from functions import *\n",
    "from torchvision.datasets import MNIST, FashionMNIST"
   ]
  },
  {
   "cell_type": "code",
   "execution_count": 8,
   "metadata": {},
   "outputs": [],
   "source": [
    "testset = create_testset(MNIST, return_validation=False)"
   ]
  },
  {
   "cell_type": "code",
   "execution_count": 5,
   "metadata": {},
   "outputs": [],
   "source": [
    "ROOT = '//mnt/smvae/'\n",
    "haddlam = torch.load(ROOT+'evaluation/evaluations_0.txt')"
   ]
  },
  {
   "cell_type": "code",
   "execution_count": 6,
   "metadata": {},
   "outputs": [
    {
     "data": {
      "text/plain": [
       "{'Beta_SMVAE_60000_0.8_1_var0.001_seed0': [nan, nan, nan],\n",
       " 'Beta_SMVAE_60000_0.8_1_var0.003_seed0': [703.8488159179688,\n",
       "  734.9407958984375,\n",
       "  -31.092140197753906],\n",
       " 'Beta_SMVAE_60000_0.8_1_var0.01_seed0': [810.1741943359375,\n",
       "  839.9636840820312,\n",
       "  -29.788347244262695],\n",
       " 'Beta_SMVAE_60000_0.8_1_var0.03_seed0': [546.290283203125,\n",
       "  571.719970703125,\n",
       "  -25.42973518371582],\n",
       " 'Beta_SMVAE_60000_0.8_1_var0.1_seed0': [137.05307006835938,\n",
       "  155.93698120117188,\n",
       "  -18.883838653564453],\n",
       " 'Beta_SMVAE_60000_0.8_1_var0.3_seed0': [-270.33013916015625,\n",
       "  -261.7846374511719,\n",
       "  -8.544975280761719],\n",
       " 'Beta_SMVAE_60000_0.8_1_var1_seed0': [-729.5601196289062,\n",
       "  -726.2189331054688,\n",
       "  -3.3421835899353027],\n",
       " 'Beta_SMVAE_60000_0_0.2_var0.001_seed0': [-847.2288818359375,\n",
       "  -3459.32958984375,\n",
       "  2612.094970703125],\n",
       " 'Beta_SMVAE_60000_0_0.2_var0.003_seed0': [-1700.7615966796875,\n",
       "  -1663.2708740234375,\n",
       "  -37.48906326293945],\n",
       " 'Beta_SMVAE_60000_0_0.2_var0.01_seed0': [inf, 23.164199829101562, inf],\n",
       " 'Beta_SMVAE_60000_0_0.2_var0.03_seed0': [inf, 289.78753662109375, inf],\n",
       " 'Beta_SMVAE_60000_0_0.2_var0.1_seed0': [inf, 51.57772445678711, inf],\n",
       " 'Beta_SMVAE_60000_0_0.2_var0.3_seed0': [-295.0425720214844,\n",
       "  -293.3769226074219,\n",
       "  -1.6655539274215698],\n",
       " 'Beta_SMVAE_60000_0_0.2_var1_seed0': [-735.0305786132812,\n",
       "  -734.8148803710938,\n",
       "  -0.216256782412529],\n",
       " 'Beta_SMVAE_60000_0_1_var0.001_seed0': [nan, nan, nan],\n",
       " 'Beta_SMVAE_60000_0_1_var0.003_seed0': [nan, nan, nan],\n",
       " 'Beta_SMVAE_60000_0_1_var0.01_seed0': [nan, nan, nan],\n",
       " 'Beta_SMVAE_60000_0_1_var0.03_seed0': [558.1741333007812,\n",
       "  577.757080078125,\n",
       "  -19.582054138183594],\n",
       " 'Beta_SMVAE_60000_0_1_var0.1_seed0': [141.8291778564453,\n",
       "  153.5021209716797,\n",
       "  -11.67331600189209],\n",
       " 'Beta_SMVAE_60000_0_1_var0.3_seed0': [-268.5199890136719,\n",
       "  -261.7135925292969,\n",
       "  -6.806553840637207],\n",
       " 'Beta_SMVAE_60000_0_1_var1_seed0': [-729.3956909179688,\n",
       "  -727.08251953125,\n",
       "  -2.313127279281616],\n",
       " 'Normal_SMVAE_60000_0.8_1_var0.001_seed0': [-599.337890625,\n",
       "  -556.6727294921875,\n",
       "  -42.664119720458984],\n",
       " 'Normal_SMVAE_60000_0.8_1_var0.003_seed0': [655.5104370117188,\n",
       "  687.3056030273438,\n",
       "  -31.795665740966797],\n",
       " 'Normal_SMVAE_60000_0.8_1_var0.01_seed0': [813.7151489257812,\n",
       "  845.4494018554688,\n",
       "  -31.73508071899414],\n",
       " 'Normal_SMVAE_60000_0.8_1_var0.03_seed0': [548.491943359375,\n",
       "  573.7384643554688,\n",
       "  -25.24509048461914],\n",
       " 'Normal_SMVAE_60000_0.8_1_var0.1_seed0': [134.75611877441406,\n",
       "  153.55015563964844,\n",
       "  -18.794269561767578],\n",
       " 'Normal_SMVAE_60000_0.8_1_var0.3_seed0': [-271.1989440917969,\n",
       "  -262.6867370605469,\n",
       "  -8.512175559997559],\n",
       " 'Normal_SMVAE_60000_0.8_1_var1_seed0': [-729.7018432617188,\n",
       "  -726.6402587890625,\n",
       "  -3.0611159801483154],\n",
       " 'Normal_SMVAE_60000_0_0.2_var0.001_seed0': [-2465.351318359375,\n",
       "  -2378.0625,\n",
       "  -87.28756713867188],\n",
       " 'Normal_SMVAE_60000_0_0.2_var0.003_seed0': [-1880.5150146484375,\n",
       "  -1824.662353515625,\n",
       "  -55.8504753112793],\n",
       " 'Normal_SMVAE_60000_0_0.2_var0.01_seed0': [-14.866592407226562,\n",
       "  38.93214797973633,\n",
       "  -53.7986946105957],\n",
       " 'Normal_SMVAE_60000_0_0.2_var0.03_seed0': [264.3371887207031,\n",
       "  306.74688720703125,\n",
       "  -42.410499572753906],\n",
       " 'Normal_SMVAE_60000_0_0.2_var0.1_seed0': [45.795631408691406,\n",
       "  52.4861946105957,\n",
       "  -6.69069242477417],\n",
       " 'Normal_SMVAE_60000_0_0.2_var0.3_seed0': [-295.311279296875,\n",
       "  -293.38690185546875,\n",
       "  -1.9244279861450195],\n",
       " 'Normal_SMVAE_60000_0_0.2_var1_seed0': [-734.8464965820312,\n",
       "  -734.6187133789062,\n",
       "  -0.2271917462348938],\n",
       " 'Normal_SMVAE_60000_0_1_var0.001_seed0': [-334.8496398925781,\n",
       "  -283.4797058105469,\n",
       "  -51.37002944946289],\n",
       " 'Normal_SMVAE_60000_0_1_var0.003_seed0': [837.3264770507812,\n",
       "  871.6680297851562,\n",
       "  -34.341644287109375],\n",
       " 'Normal_SMVAE_60000_0_1_var0.01_seed0': [846.7597045898438,\n",
       "  872.78857421875,\n",
       "  -26.028514862060547],\n",
       " 'Normal_SMVAE_60000_0_1_var0.03_seed0': [557.4771728515625,\n",
       "  577.3041381835938,\n",
       "  -19.827489852905273],\n",
       " 'Normal_SMVAE_60000_0_1_var0.1_seed0': [140.95864868164062,\n",
       "  152.78318786621094,\n",
       "  -11.824716567993164],\n",
       " 'Normal_SMVAE_60000_0_1_var0.3_seed0': [-268.64788818359375,\n",
       "  -262.14208984375,\n",
       "  -6.506191253662109],\n",
       " 'Normal_SMVAE_60000_0_1_var1_seed0': [-729.4921264648438,\n",
       "  -727.4212036132812,\n",
       "  -2.0710690021514893],\n",
       " 'Standard_VAE_60000_0.8_1_var0.001_seed0': [-437.745849609375,\n",
       "  -394.03631591796875,\n",
       "  -43.7105827331543],\n",
       " 'Standard_VAE_60000_0.8_1_var0.003_seed0': [716.7001953125,\n",
       "  749.5398559570312,\n",
       "  -32.839908599853516],\n",
       " 'Standard_VAE_60000_0.8_1_var0.01_seed0': [821.4839477539062,\n",
       "  851.6094970703125,\n",
       "  -30.128877639770508],\n",
       " 'Standard_VAE_60000_0.8_1_var0.03_seed0': [546.447021484375,\n",
       "  571.4677734375,\n",
       "  -25.019800186157227],\n",
       " 'Standard_VAE_60000_0.8_1_var0.1_seed0': [136.6229248046875,\n",
       "  154.97056579589844,\n",
       "  -18.347726821899414],\n",
       " 'Standard_VAE_60000_0.8_1_var0.3_seed0': [-271.7030944824219,\n",
       "  -261.0291748046875,\n",
       "  -10.673969268798828],\n",
       " 'Standard_VAE_60000_0.8_1_var1_seed0': [-731.8250732421875,\n",
       "  -727.5831298828125,\n",
       "  -4.242264747619629],\n",
       " 'Standard_VAE_60000_0_0.2_var0.001_seed0': [-6784.8583984375,\n",
       "  -6718.55517578125,\n",
       "  -66.29518127441406],\n",
       " 'Standard_VAE_60000_0_0.2_var0.003_seed0': [-1638.5679931640625,\n",
       "  -1580.4930419921875,\n",
       "  -58.07329559326172],\n",
       " 'Standard_VAE_60000_0_0.2_var0.01_seed0': [285.5565185546875,\n",
       "  330.6204833984375,\n",
       "  -45.064247131347656],\n",
       " 'Standard_VAE_60000_0_0.2_var0.03_seed0': [289.6892395019531,\n",
       "  329.2922668457031,\n",
       "  -39.603309631347656],\n",
       " 'Standard_VAE_60000_0_0.2_var0.1_seed0': [41.532405853271484,\n",
       "  59.890724182128906,\n",
       "  -18.358266830444336],\n",
       " 'Standard_VAE_60000_0_0.2_var0.3_seed0': [-296.6281433105469,\n",
       "  -296.6142272949219,\n",
       "  -0.01415997464209795],\n",
       " 'Standard_VAE_60000_0_0.2_var1_seed0': [-734.8204956054688,\n",
       "  -734.8201293945312,\n",
       "  -0.00027664750814437866],\n",
       " 'Standard_VAE_60000_0_1_var0.001_seed0': [-236.39007568359375,\n",
       "  -184.69630432128906,\n",
       "  -51.694068908691406],\n",
       " 'Standard_VAE_60000_0_1_var0.003_seed0': [867.1361083984375,\n",
       "  901.6157836914062,\n",
       "  -34.47842788696289],\n",
       " 'Standard_VAE_60000_0_1_var0.01_seed0': [850.76171875,\n",
       "  877.5319213867188,\n",
       "  -26.77102279663086],\n",
       " 'Standard_VAE_60000_0_1_var0.03_seed0': [559.4027099609375,\n",
       "  578.9595947265625,\n",
       "  -19.556604385375977],\n",
       " 'Standard_VAE_60000_0_1_var0.1_seed0': [142.98330688476562,\n",
       "  155.2674102783203,\n",
       "  -12.284167289733887],\n",
       " 'Standard_VAE_60000_0_1_var0.3_seed0': [-268.28851318359375,\n",
       "  -262.00946044921875,\n",
       "  -6.278573989868164],\n",
       " 'Standard_VAE_60000_0_1_var1_seed0': [-729.3231201171875,\n",
       "  -727.140380859375,\n",
       "  -2.181123971939087]}"
      ]
     },
     "execution_count": 6,
     "metadata": {},
     "output_type": "execute_result"
    }
   ],
   "source": [
    "haddlam"
   ]
  },
  {
   "cell_type": "code",
   "execution_count": 29,
   "metadata": {},
   "outputs": [],
   "source": [
    "# HYPERPARAMETERS\n",
    "\n",
    "LATENT_SIZE = 10\n",
    "BATCH_SIZE = 32\n",
    "LEARNING_RATE = 0.5*1e-3\n",
    "NUM_EPOCHS = 15\n",
    "\n",
    "random_seed = 0\n",
    "is_bce = False\n",
    "\n",
    "random.seed(random_seed)\n",
    "\n",
    "digit_inst = 4\n",
    "length = 24000\n",
    "min_contrast = 0\n",
    "max_contrast = 1\n",
    "\n",
    "trainset = create_trainset(digit_inst, length, min_contrast, max_contrast)\n",
    "testset = create_testset(digit_inst)\n",
    "\n",
    "testloader = DataLoader(\n",
    "    testset,\n",
    "    batch_size=1,\n",
    "    shuffle=True\n",
    ")"
   ]
  },
  {
   "cell_type": "code",
   "execution_count": 36,
   "metadata": {},
   "outputs": [],
   "source": [
    "torch.manual_seed(random_seed)\n",
    "torch.cuda.manual_seed(random_seed)\n",
    "torch.backends.cudnn.deterministic = True\n",
    "torch.backends.cudnn.benchmark = False\n",
    "\n",
    "enc_layers = [256, 32]\n",
    "dec_layers = [32, 256]\n",
    "model_vae0_1 = VAE(784, enc_layers, dec_layers, LATENT_SIZE, 0.1, nn.ReLU(), nn.ReLU())\n"
   ]
  },
  {
   "cell_type": "code",
   "execution_count": 32,
   "metadata": {},
   "outputs": [
    {
     "data": {
      "text/plain": [
       "0.1"
      ]
     },
     "execution_count": 32,
     "metadata": {},
     "output_type": "execute_result"
    }
   ],
   "source": [
    "model_vae0_1.var"
   ]
  },
  {
   "cell_type": "code",
   "execution_count": 39,
   "metadata": {},
   "outputs": [
    {
     "name": "stdout",
     "output_type": "stream",
     "text": [
      "Epoch [1/4], Loss: 848.207, Reconstruction: 857.447, Regularization: -9.240\n",
      "Epoch [2/4], Loss: 850.936, Reconstruction: 860.634, Regularization: -9.697\n",
      "Epoch [3/4], Loss: 853.085, Reconstruction: 863.211, Regularization: -10.126\n",
      "Epoch [4/4], Loss: 854.748, Reconstruction: 865.179, Regularization: -10.431\n"
     ]
    },
    {
     "data": {
      "text/plain": [
       "[[tensor(848.2073, grad_fn=<DivBackward0>),\n",
       "  tensor(857.4468, grad_fn=<DivBackward0>),\n",
       "  tensor(-9.2396, grad_fn=<DivBackward0>)],\n",
       " [tensor(850.9364, grad_fn=<DivBackward0>),\n",
       "  tensor(860.6337, grad_fn=<DivBackward0>),\n",
       "  tensor(-9.6971, grad_fn=<DivBackward0>)],\n",
       " [tensor(853.0848, grad_fn=<DivBackward0>),\n",
       "  tensor(863.2112, grad_fn=<DivBackward0>),\n",
       "  tensor(-10.1262, grad_fn=<DivBackward0>)],\n",
       " [tensor(854.7482, grad_fn=<DivBackward0>),\n",
       "  tensor(865.1793, grad_fn=<DivBackward0>),\n",
       "  tensor(-10.4314, grad_fn=<DivBackward0>)]]"
      ]
     },
     "execution_count": 39,
     "metadata": {},
     "output_type": "execute_result"
    }
   ],
   "source": [
    "model = model_vae0_1\n",
    "NUM_EPOCHS = 4\n",
    "BATCH_SIZE = 32\n",
    "train(model, trainset, is_bce, LEARNING_RATE, BATCH_SIZE, NUM_EPOCHS)"
   ]
  },
  {
   "cell_type": "code",
   "execution_count": 41,
   "metadata": {},
   "outputs": [
    {
     "data": {
      "text/plain": [
       "(tensor(853.9106, grad_fn=<DivBackward0>),\n",
       " tensor(863.8059, grad_fn=<DivBackward0>),\n",
       " tensor(-9.8931, grad_fn=<DivBackward0>))"
      ]
     },
     "execution_count": 41,
     "metadata": {},
     "output_type": "execute_result"
    }
   ],
   "source": [
    "ELBO(model, False, testset) # testset batch_size = 1"
   ]
  },
  {
   "cell_type": "code",
   "execution_count": null,
   "metadata": {},
   "outputs": [],
   "source": []
  }
 ],
 "metadata": {
  "kernelspec": {
   "display_name": "Python 3",
   "language": "python",
   "name": "python3"
  },
  "language_info": {
   "codemirror_mode": {
    "name": "ipython",
    "version": 3
   },
   "file_extension": ".py",
   "mimetype": "text/x-python",
   "name": "python",
   "nbconvert_exporter": "python",
   "pygments_lexer": "ipython3",
   "version": "3.5.2"
  }
 },
 "nbformat": 4,
 "nbformat_minor": 4
}
