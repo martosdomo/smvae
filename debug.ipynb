{
 "cells": [
  {
   "cell_type": "code",
   "execution_count": 6,
   "metadata": {},
   "outputs": [],
   "source": [
    "%load_ext autoreload\n",
    "%autoreload 2\n",
    "\n",
    "from c_mnist import *\n",
    "from models import *\n",
    "from functions import *"
   ]
  },
  {
   "cell_type": "code",
   "execution_count": 2,
   "metadata": {},
   "outputs": [
    {
     "data": {
      "text/plain": [
       "Normal(loc: 0.0, scale: 1.0)"
      ]
     },
     "execution_count": 2,
     "metadata": {},
     "output_type": "execute_result"
    }
   ],
   "source": [
    "Normal(0,1)"
   ]
  },
  {
   "cell_type": "code",
   "execution_count": 29,
   "metadata": {},
   "outputs": [],
   "source": [
    "# HYPERPARAMETERS\n",
    "\n",
    "LATENT_SIZE = 10\n",
    "BATCH_SIZE = 32\n",
    "LEARNING_RATE = 0.5*1e-3\n",
    "NUM_EPOCHS = 15\n",
    "\n",
    "random_seed = 0\n",
    "is_bce = False\n",
    "\n",
    "random.seed(random_seed)\n",
    "\n",
    "digit_inst = 4\n",
    "length = 24000\n",
    "min_contrast = 0\n",
    "max_contrast = 1\n",
    "\n",
    "trainset = create_trainset(digit_inst, length, min_contrast, max_contrast)\n",
    "testset = create_testset(digit_inst)\n",
    "\n",
    "testloader = DataLoader(\n",
    "    testset,\n",
    "    batch_size=1,\n",
    "    shuffle=True\n",
    ")"
   ]
  },
  {
   "cell_type": "code",
   "execution_count": 36,
   "metadata": {},
   "outputs": [],
   "source": [
    "torch.manual_seed(random_seed)\n",
    "torch.cuda.manual_seed(random_seed)\n",
    "torch.backends.cudnn.deterministic = True\n",
    "torch.backends.cudnn.benchmark = False\n",
    "\n",
    "enc_layers = [256, 32]\n",
    "dec_layers = [32, 256]\n",
    "model_vae0_1 = VAE(784, enc_layers, dec_layers, LATENT_SIZE, 0.1, nn.ReLU(), nn.ReLU())\n"
   ]
  },
  {
   "cell_type": "code",
   "execution_count": 32,
   "metadata": {},
   "outputs": [
    {
     "data": {
      "text/plain": [
       "0.1"
      ]
     },
     "execution_count": 32,
     "metadata": {},
     "output_type": "execute_result"
    }
   ],
   "source": [
    "model_vae0_1.var"
   ]
  },
  {
   "cell_type": "code",
   "execution_count": 39,
   "metadata": {},
   "outputs": [
    {
     "name": "stdout",
     "output_type": "stream",
     "text": [
      "Epoch [1/4], Loss: 848.207, Reconstruction: 857.447, Regularization: -9.240\n",
      "Epoch [2/4], Loss: 850.936, Reconstruction: 860.634, Regularization: -9.697\n",
      "Epoch [3/4], Loss: 853.085, Reconstruction: 863.211, Regularization: -10.126\n",
      "Epoch [4/4], Loss: 854.748, Reconstruction: 865.179, Regularization: -10.431\n"
     ]
    },
    {
     "data": {
      "text/plain": [
       "[[tensor(848.2073, grad_fn=<DivBackward0>),\n",
       "  tensor(857.4468, grad_fn=<DivBackward0>),\n",
       "  tensor(-9.2396, grad_fn=<DivBackward0>)],\n",
       " [tensor(850.9364, grad_fn=<DivBackward0>),\n",
       "  tensor(860.6337, grad_fn=<DivBackward0>),\n",
       "  tensor(-9.6971, grad_fn=<DivBackward0>)],\n",
       " [tensor(853.0848, grad_fn=<DivBackward0>),\n",
       "  tensor(863.2112, grad_fn=<DivBackward0>),\n",
       "  tensor(-10.1262, grad_fn=<DivBackward0>)],\n",
       " [tensor(854.7482, grad_fn=<DivBackward0>),\n",
       "  tensor(865.1793, grad_fn=<DivBackward0>),\n",
       "  tensor(-10.4314, grad_fn=<DivBackward0>)]]"
      ]
     },
     "execution_count": 39,
     "metadata": {},
     "output_type": "execute_result"
    }
   ],
   "source": [
    "model = model_vae0_1\n",
    "NUM_EPOCHS = 4\n",
    "BATCH_SIZE = 32\n",
    "train(model, trainset, is_bce, LEARNING_RATE, BATCH_SIZE, NUM_EPOCHS)"
   ]
  },
  {
   "cell_type": "code",
   "execution_count": 41,
   "metadata": {},
   "outputs": [
    {
     "data": {
      "text/plain": [
       "(tensor(853.9106, grad_fn=<DivBackward0>),\n",
       " tensor(863.8059, grad_fn=<DivBackward0>),\n",
       " tensor(-9.8931, grad_fn=<DivBackward0>))"
      ]
     },
     "execution_count": 41,
     "metadata": {},
     "output_type": "execute_result"
    }
   ],
   "source": [
    "ELBO(model, False, testset) # testset batch_size = 1"
   ]
  },
  {
   "cell_type": "code",
   "execution_count": null,
   "metadata": {},
   "outputs": [],
   "source": []
  }
 ],
 "metadata": {
  "kernelspec": {
   "display_name": "base",
   "language": "python",
   "name": "python3"
  },
  "language_info": {
   "codemirror_mode": {
    "name": "ipython",
    "version": 3
   },
   "file_extension": ".py",
   "mimetype": "text/x-python",
   "name": "python",
   "nbconvert_exporter": "python",
   "pygments_lexer": "ipython3",
   "version": "3.10.9"
  },
  "orig_nbformat": 4
 },
 "nbformat": 4,
 "nbformat_minor": 2
}
